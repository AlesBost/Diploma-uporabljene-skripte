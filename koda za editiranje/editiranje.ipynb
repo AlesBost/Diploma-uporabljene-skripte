{
 "cells": [
  {
   "cell_type": "code",
   "execution_count": 1,
   "metadata": {},
   "outputs": [
    {
     "name": "stdout",
     "output_type": "stream",
     "text": [
      "Moviepy - Building video C:\\Users\\Ales\\Desktop\\testek\\Radovednost.mp4.\n",
      "MoviePy - Writing audio in RadovednostTEMP_MPY_wvf_snd.mp3\n"
     ]
    },
    {
     "name": "stderr",
     "output_type": "stream",
     "text": [
      "                                                                                                                       \r"
     ]
    },
    {
     "name": "stdout",
     "output_type": "stream",
     "text": [
      "MoviePy - Done.\n",
      "Moviepy - Writing video C:\\Users\\Ales\\Desktop\\testek\\Radovednost.mp4\n",
      "\n"
     ]
    },
    {
     "name": "stderr",
     "output_type": "stream",
     "text": [
      "                                                                                                                       \r"
     ]
    },
    {
     "name": "stdout",
     "output_type": "stream",
     "text": [
      "Moviepy - Done !\n",
      "Moviepy - video ready C:\\Users\\Ales\\Desktop\\testek\\Radovednost.mp4\n"
     ]
    }
   ],
   "source": [
    "from moviepy.editor import *\n",
    "\n",
    "# pot kjer se nahaja naš neobdelan video\n",
    "pot_video = r'C:\\Users\\Ales\\Desktop\\testek\\filmcek.mp4'\n",
    "# pot kjer se nahaja naša glasba\n",
    "pot_audio = r'C:\\Users\\Ales\\Desktop\\Muzika\\wont stop the fall.mp3'\n",
    "#naložimo naš video in ga shranimo kot clip\n",
    "clip = VideoFileClip(pot_video)\n",
    "#ustvarimo podclip dolg prve 3 sekunde originala\n",
    "clip2 = clip.subclip(t_end=(0,0,3))\n",
    "#ustvarimo txt clip za naslov in mu damo text, velikost in barvo\n",
    "txt_clip = TextClip('Radovednost', fontsize = 150, color = 'red')\n",
    "#našemu txt clipu dodamo še pozicijo/animacijo in čas trajanja\n",
    "txt_clip = txt_clip.set_position(lambda t: (650*t,20)).set_duration(clip2.duration)\n",
    "#našemu filmu dodamo txt\n",
    "video = CompositeVideoClip([clip,txt_clip.set_start(0)])\n",
    "#ustvarimo clip dolg 29 sec od 1-30\n",
    "clip3 = video.subclip(t_start=(0,0,1))\n",
    "#ustvarimo clip dolg 1 sec 0-1\n",
    "clip4 = video.subclip(t_end=(0,0,1))\n",
    "#naložimo našo glasbo in ji naštimamo dolžino\n",
    "audio3 = AudioFileClip(pot_audio).set_duration(clip3.duration)\n",
    "#Našemu clipu, ki je dolg 29 sec dodamo glasbo\n",
    "clipZzvokom = clip3.set_audio(audio3)\n",
    "#združimo nazaj 1 sec clip in 29 clip z glasbo\n",
    "kombinacija = concatenate_videoclips([clip4, clipZzvokom])\n",
    "#ustvarimo nov clip dolg 3 sec z samo črnino, ki ga bomo uporabili za odjavno špico\n",
    "clip5 = clip2.fx( vfx.colorx, 0.0)\n",
    "#ustvarimo nov txt clip mu dodamo besedilo font in barvo\n",
    "txt_clip3 = TextClip('Aleš Boštjančič', fontsize = 100, color = 'white')\n",
    "#dodamo pozicijo kje se bo besedilo nahajalo in koliko časa bo trajalo\n",
    "txt_clip3 = txt_clip3.set_position((100,100)).set_duration(clip5.duration)\n",
    "#združimo naš 3 sec clip z tekstom\n",
    "konec2 = CompositeVideoClip([clip5,txt_clip3.set_start(0)])\n",
    "#obstoječemu txt clipu spremenimo besedilo in pozicijo ter ga spet dodamo\n",
    "txt_clip3 = TextClip('Diplomsko delo 2022/23', fontsize = 100, color = 'white')\n",
    "txt_clip3 = txt_clip3.set_position((100,300)).set_duration(clip5.duration)\n",
    "konec2 = CompositeVideoClip([konec2,txt_clip3.set_start(0)])\n",
    "#obstoječemu txt clipu spremenimo besedilo in pozicijo ter ga spet dodamo\n",
    "txt_clip3 = TextClip('Univerza v Ljubljani', fontsize = 100, color = 'white')\n",
    "txt_clip3 = txt_clip3.set_position((100,500)).set_duration(clip5.duration)\n",
    "konec2 = CompositeVideoClip([konec2,txt_clip3.set_start(0)])\n",
    "#obstoječemu txt clipu spremenimo besedilo in pozicijo ter ga spet dodamo\n",
    "txt_clip3 = TextClip('Fakulteta za računalništvo in informatiko', fontsize = 100, color = 'white')\n",
    "txt_clip3 = txt_clip3.set_position((100,700)).set_duration(clip5.duration)\n",
    "konec2 = CompositeVideoClip([konec2,txt_clip3.set_start(0)])\n",
    "#ustvarimo nov clip dolg pol sekunde, ki ga bomo uporabili za konec\n",
    "clip7 = video.subclip(t_start=(0,0,29.5))\n",
    "#pol sekundni clip 6 krat med seboj združimo, da dobimo 3 sekunde\n",
    "kombinacija2 = concatenate_videoclips([clip7, clip7, clip7, clip7, clip7, clip7])\n",
    "#ustvarimo efekt zatemnitve\n",
    "clip6 = vfx.fadeout(kombinacija2,3,final_color=[0,0,0])\n",
    "#ustvarimo txt clip dolg 4 sekunde, kjer prve 3 sekunde se pojavlja besedilo z efektom fadein, \n",
    "#zadnjo sekundo pa izginja z efektom fadeout\n",
    "txt_clip2 = TextClip('Konec', fontsize = 150, color = 'white')\n",
    "txt_clip2 = txt_clip2.set_position('center').set_duration(4)\n",
    "txt_clip2 = txt_clip2.crossfadein(3)\n",
    "txt_clip2 = txt_clip2.crossfadeout(1)\n",
    "#3 sekundni clip in 4 sekundni txt clip združimo, kjer dobimo ven 4 sekundni clip\n",
    "konec = CompositeVideoClip([clip6,txt_clip2.set_start(0)])\n",
    "#združimo naši obstoječi film z koncem in odjavno špico\n",
    "koncniFilm = concatenate_videoclips([kombinacija, konec, konec2])\n",
    "#lahko si zmanjšamo oziroma povečamo glasnost zvoka v filmu\n",
    "koncniFilm = koncniFilm.volumey(1)\n",
    "#shranimo naš film na podano lokacijo\n",
    "koncniFilm.write_videofile(r'C:\\Users\\Ales\\Desktop\\testek\\Radovednost.mp4')"
   ]
  },
  {
   "cell_type": "code",
   "execution_count": null,
   "metadata": {},
   "outputs": [],
   "source": []
  }
 ],
 "metadata": {
  "kernelspec": {
   "display_name": "Python 3",
   "language": "python",
   "name": "python3"
  },
  "language_info": {
   "codemirror_mode": {
    "name": "ipython",
    "version": 3
   },
   "file_extension": ".py",
   "mimetype": "text/x-python",
   "name": "python",
   "nbconvert_exporter": "python",
   "pygments_lexer": "ipython3",
   "version": "3.9.0"
  }
 },
 "nbformat": 4,
 "nbformat_minor": 4
}
